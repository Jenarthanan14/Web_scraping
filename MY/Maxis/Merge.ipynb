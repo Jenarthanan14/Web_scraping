{
 "cells": [
  {
   "cell_type": "code",
   "execution_count": 13,
   "id": "2eb0b2b2",
   "metadata": {},
   "outputs": [
    {
     "name": "stdout",
     "output_type": "stream",
     "text": [
      "Enter the Device Directory Path : Maxis/20220113/\n",
      "Enter the Output Directory Path : Final/Maxis/20220113/\n"
     ]
    }
   ],
   "source": [
    "import glob\n",
    "import os\n",
    "import pandas as pd   \n",
    "in_path = input('Enter the Device Directory Path : ')\n",
    "out_path = input('Enter the Output Directory Path : ')"
   ]
  },
  {
   "cell_type": "code",
   "execution_count": 28,
   "id": "d238b098",
   "metadata": {},
   "outputs": [],
   "source": [
    "df = pd.concat(map(pd.read_csv, glob.glob(os.path.join('', in_path+\"*.csv\"))))\n",
    "df = df.drop_duplicates()\n",
    "df = df[df.Monthly_Device_Instalment != 'RM --']\n",
    "df['currency_Unit'] = df.Monthly_Device_Instalment.apply(lambda x: x.split()[0])\n",
    "df['Monthly_Device_Instalment'] = df.Monthly_Device_Instalment.apply(lambda x: int(x.split()[1].split('/')[0]))\n",
    "df['Plan_Monthly_Charges'] = df.Plan_Monthly_Charges.apply(lambda x: int(x.split()[1].split('/')[0]))\n",
    "df['Total_Monthly_Payment'] = df.Total_Monthly_Payment.apply(lambda x: int(x.split()[1]))\n",
    "df['Upfront_Payment'] = df.Upfront_Payment.apply(lambda x: int(x.split()[1]))\n",
    "df['Storage_Unit'] = df.Storage_Size.apply(lambda x: x.split()[1])\n",
    "df['Storage_Size'] = df.Storage_Size.apply(lambda x: int(x.split()[0]))\n",
    "df['Contract_Period'] = 24\n",
    "df['Contract_Period_Unit'] = 'Month'\n",
    "df.loc[df.Colour == 'Product Red™', 'Colour'] = 'Red'\n",
    "df.loc[df.Availability == 'ADD TO CART', 'Availability'] = 'IN STOCK'\n",
    "df.loc[df.Contract_Option == 'Zerolution 36-Months', 'Contract_Period'] = 36\n",
    "df.loc[df.Upfront_Payment != 0, 'Monthly_Device_Instalment'] = 0"
   ]
  },
  {
   "cell_type": "code",
   "execution_count": 29,
   "id": "30904952",
   "metadata": {},
   "outputs": [],
   "source": [
    "df.to_csv(out_path+'Final_20220112.csv', index=False)"
   ]
  },
  {
   "cell_type": "code",
   "execution_count": 30,
   "id": "35810c2b",
   "metadata": {},
   "outputs": [],
   "source": [
    "#df.loc[df['Colour'].str.startswith('Product', na=False)]"
   ]
  },
  {
   "cell_type": "code",
   "execution_count": null,
   "id": "7e6c3c48",
   "metadata": {},
   "outputs": [],
   "source": []
  }
 ],
 "metadata": {
  "kernelspec": {
   "display_name": "Python 3",
   "language": "python",
   "name": "python3"
  },
  "language_info": {
   "codemirror_mode": {
    "name": "ipython",
    "version": 3
   },
   "file_extension": ".py",
   "mimetype": "text/x-python",
   "name": "python",
   "nbconvert_exporter": "python",
   "pygments_lexer": "ipython3",
   "version": "3.8.8"
  }
 },
 "nbformat": 4,
 "nbformat_minor": 5
}
