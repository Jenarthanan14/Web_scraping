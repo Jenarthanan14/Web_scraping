{
 "cells": [
  {
   "cell_type": "code",
   "execution_count": 1,
   "id": "2a8ab4fd",
   "metadata": {},
   "outputs": [],
   "source": [
    "import os\n",
    "import csv\n",
    "import requests\n",
    "from bs4 import BeautifulSoup\n",
    "import sys\n",
    "import pandas as pd\n",
    "from datetime import datetime\n",
    "import time\n",
    "import selenium\n",
    "from selenium import webdriver\n",
    "from selenium.webdriver.common.by import By\n",
    "from selenium.webdriver.support.ui import WebDriverWait\n",
    "from selenium.webdriver.support import expected_conditions as EC\n",
    "now = datetime.now()\n",
    "date = now.date()\n",
    "import re\n",
    "from selenium.webdriver.chrome.options import Options\n",
    "from webdriver_manager.chrome import ChromeDriverManager\n",
    "\n",
    "\n",
    "\n",
    "\n",
    "#https://store.maxis.com.my/productdetails/category/mobiles/samsung/galaxy-z-flip-3-5g\n",
    "#https://store.maxis.com.my/productdetails/category/mobiles/apple/iphone-12-pro-max\n",
    "\n",
    "\n",
    "now = datetime.now()\n",
    "extraxtion_date = now.date()\n",
    "date = extraxtion_date.strftime(\"%Y%m%d\")\n",
    "path = 'Maxis/'+  date + '/'              \n",
    "if not os.path.exists(path):\n",
    "    os.makedirs(path)\n"
   ]
  },
  {
   "cell_type": "code",
   "execution_count": 2,
   "id": "ca5d21e6",
   "metadata": {},
   "outputs": [],
   "source": [
    "\n",
    "urls = ['https://store.maxis.com.my/productdetails/category/mobiles/apple/iphone-13-pro-max','https://store.maxis.com.my/productdetails/category/mobiles/apple/iphone-13-pro',\n",
    "        'https://store.maxis.com.my/productdetails/category/mobiles/apple/iphone-13','https://store.maxis.com.my/productdetails/category/mobiles/samsung/galaxy-s21-fe-5g',\n",
    "        'https://store.maxis.com.my/productdetails/category/mobiles/samsung/galaxy-z-fold3-5g','https://store.maxis.com.my/productdetails/category/mobiles/samsung/galaxy-z-flip-3-5g',\n",
    "        'https://store.maxis.com.my/productdetails/category/mobiles/samsung/galaxy-s21-ultra-5g','https://store.maxis.com.my/productdetails/category/mobiles/oppo/find-x3-pro',\n",
    "        'https://store.maxis.com.my/productdetails/category/mobiles/apple/iphone-12-pro-max','https://store.maxis.com.my/productdetails/category/mobiles/apple/iphone-12-pro',\n",
    "        'https://store.maxis.com.my/productdetails/category/mobiles/asus/rog-phone-5s','https://store.maxis.com.my/productdetails/category/mobiles/xiaomi/black-shark-4',\n",
    "        'https://store.maxis.com.my/productdetails/category/mobiles/apple/iphone-12','https://store.maxis.com.my/productdetails/category/mobiles/apple/iphone-13-mini',\n",
    "        'https://store.maxis.com.my/productdetails/category/mobiles/asus/rog-phone-5','https://store.maxis.com.my/productdetails/category/mobiles/apple/iphone-12-mini',\n",
    "        'https://store.maxis.com.my/productdetails/category/mobiles/oppo/reno6-pro-5g','https://store.maxis.com.my/productdetails/category/mobiles/realme/gt-master-edition',\n",
    "        'https://store.maxis.com.my/productdetails/category/mobiles/samsung/galaxy-s20-fe-5g','https://store.maxis.com.my/productdetails/category/mobiles/vivo/y20-2021',\n",
    "        'https://store.maxis.com.my/productdetails/category/mobiles/samsung/galaxy-a12','https://store.maxis.com.my/productdetails/category/mobiles/apple/iphone-xr',\n",
    "        'https://store.maxis.com.my/productdetails/category/mobiles/samsung/galaxy-a32-5g','https://store.maxis.com.my/productdetails/category/mobiles/samsung/galaxy-a52',\n",
    "        'https://store.maxis.com.my/productdetails/category/mobiles/oppo/a54','https://store.maxis.com.my/productdetails/category/mobiles/vivo/v21e',\n",
    "        'https://store.maxis.com.my/productdetails/category/mobiles/vivo/v21','https://store.maxis.com.my/productdetails/category/mobiles/realme/8-pro',\n",
    "        'https://store.maxis.com.my/productdetails/category/mobiles/vivo/v21-5g','https://store.maxis.com.my/productdetails/category/mobiles/samsung/galaxy-a22-5g',\n",
    "        'https://store.maxis.com.my/productdetails/category/mobiles/huawei/nova-8i','https://store.maxis.com.my/productdetails/category/mobiles/oppo/reno6-z-5g',\n",
    "        'https://store.maxis.com.my/productdetails/category/mobiles/vivo/y31','https://store.maxis.com.my/productdetails/category/mobiles/samsung/galaxy-s21-5g',\n",
    "        'https://store.maxis.com.my/productdetails/category/mobiles/xiaomi/redmi-10','https://store.maxis.com.my/productdetails/category/mobiles/oppo/reno6-5g',\n",
    "        'https://store.maxis.com.my/productdetails/category/mobiles/realme/c25y','https://store.maxis.com.my/productdetails/category/mobiles/samsung/galaxy-a03s',\n",
    "        'https://store.maxis.com.my/productdetails/category/mobiles/vivo/x70','https://store.maxis.com.my/productdetails/category/mobiles/samsung/galaxy-a52s-5g',\n",
    "        'https://store.maxis.com.my/productdetails/category/mobiles/honor/50','https://store.maxis.com.my/productdetails/category/mobiles/huawei/nova-9',\n",
    "        'https://store.maxis.com.my/productdetails/category/mobiles/samsung/galaxy-m12','https://store.maxis.com.my/productdetails/category/mobiles/oppo/a95',\n",
    "        'https://store.maxis.com.my/productdetails/category/mobiles/vivo/y76-5g','https://store.maxis.com.my/productdetails/category/mobiles/honor/50-lite',\n",
    "        'https://store.maxis.com.my/productdetails/category/mobiles/vivo/y15a','https://store.maxis.com.my/productdetails/category/mobiles/apple/iphone-11',\n",
    "        'https://store.maxis.com.my/productdetails/category/mobiles/vivo/v23e','https://store.maxis.com.my/productdetails/category/mobiles/vivo/x60',\n",
    "        'https://store.maxis.com.my/productdetails/category/mobiles/vivo/v21e-biggest-sale'\n",
    "    ]\n",
    "\n",
    "\n"
   ]
  },
  {
   "cell_type": "code",
   "execution_count": 4,
   "id": "25cf70ee",
   "metadata": {},
   "outputs": [
    {
     "name": "stderr",
     "output_type": "stream",
     "text": [
      "<ipython-input-4-4b4d14493738>:15: DeprecationWarning: executable_path has been deprecated, please pass in a Service object\n",
      "  browser = webdriver.Chrome(executable_path='C:/Users/JenarthananRajenthir/OneDrive - ADA Asia/Documents/Final_telco/chromedriver.exe', options=options)\n"
     ]
    },
    {
     "name": "stdout",
     "output_type": "stream",
     "text": [
      "8\n",
      "20\n",
      "20\n",
      "Successfully Maxis Galaxy S21 FE 5G Details Collected!\n",
      "8\n",
      "20\n",
      "20\n",
      "Successfully Maxis Galaxy Z Fold3 5G Details Collected!\n"
     ]
    },
    {
     "ename": "IndexError",
     "evalue": "list index out of range",
     "output_type": "error",
     "traceback": [
      "\u001b[1;31m---------------------------------------------------------------------------\u001b[0m",
      "\u001b[1;31mIndexError\u001b[0m                                Traceback (most recent call last)",
      "\u001b[1;32m<ipython-input-4-4b4d14493738>\u001b[0m in \u001b[0;36m<module>\u001b[1;34m\u001b[0m\n\u001b[0;32m     21\u001b[0m     \u001b[0msoup\u001b[0m \u001b[1;33m=\u001b[0m \u001b[0mBeautifulSoup\u001b[0m\u001b[1;33m(\u001b[0m\u001b[0mhtml\u001b[0m\u001b[1;33m,\u001b[0m \u001b[1;34m\"html5lib\"\u001b[0m\u001b[1;33m)\u001b[0m\u001b[1;33m\u001b[0m\u001b[1;33m\u001b[0m\u001b[0m\n\u001b[0;32m     22\u001b[0m     \u001b[0mbrowser\u001b[0m\u001b[1;33m.\u001b[0m\u001b[0mimplicitly_wait\u001b[0m\u001b[1;33m(\u001b[0m\u001b[1;36m10\u001b[0m\u001b[1;33m)\u001b[0m\u001b[1;33m\u001b[0m\u001b[1;33m\u001b[0m\u001b[0m\n\u001b[1;32m---> 23\u001b[1;33m     \u001b[0mcontracts\u001b[0m \u001b[1;33m=\u001b[0m \u001b[0mlist\u001b[0m\u001b[1;33m(\u001b[0m\u001b[0mset\u001b[0m\u001b[1;33m(\u001b[0m\u001b[0msoup\u001b[0m\u001b[1;33m.\u001b[0m\u001b[0mfind_all\u001b[0m\u001b[1;33m(\u001b[0m\u001b[1;34m'div'\u001b[0m\u001b[1;33m,\u001b[0m \u001b[0mattrs\u001b[0m \u001b[1;33m=\u001b[0m \u001b[1;33m{\u001b[0m\u001b[1;34m'id'\u001b[0m\u001b[1;33m:\u001b[0m\u001b[1;34m'devicePlans'\u001b[0m\u001b[1;33m}\u001b[0m\u001b[1;33m)\u001b[0m\u001b[1;33m[\u001b[0m\u001b[1;36m0\u001b[0m\u001b[1;33m]\u001b[0m\u001b[1;33m.\u001b[0m\u001b[0mfind_all\u001b[0m\u001b[1;33m(\u001b[0m\u001b[1;34m'div'\u001b[0m\u001b[1;33m,\u001b[0m \u001b[0mattrs\u001b[0m \u001b[1;33m=\u001b[0m \u001b[1;33m{\u001b[0m\u001b[1;34m'class'\u001b[0m\u001b[1;33m:\u001b[0m\u001b[1;34m'upper-content'\u001b[0m\u001b[1;33m}\u001b[0m\u001b[1;33m)\u001b[0m\u001b[1;33m[\u001b[0m\u001b[1;36m1\u001b[0m\u001b[1;33m]\u001b[0m\u001b[1;33m.\u001b[0m\u001b[0mfind_all\u001b[0m\u001b[1;33m(\u001b[0m\u001b[1;34m'div'\u001b[0m\u001b[1;33m,\u001b[0m \u001b[0mattrs\u001b[0m \u001b[1;33m=\u001b[0m \u001b[1;33m{\u001b[0m\u001b[1;34m'class'\u001b[0m\u001b[1;33m:\u001b[0m\u001b[1;34m'slick-list'\u001b[0m\u001b[1;33m}\u001b[0m\u001b[1;33m)\u001b[0m\u001b[1;33m[\u001b[0m\u001b[1;36m0\u001b[0m\u001b[1;33m]\u001b[0m\u001b[1;33m.\u001b[0m\u001b[0mfind_all\u001b[0m\u001b[1;33m(\u001b[0m\u001b[1;34m'button'\u001b[0m\u001b[1;33m,\u001b[0m \u001b[0mattrs\u001b[0m \u001b[1;33m=\u001b[0m \u001b[1;33m{\u001b[0m\u001b[1;34m'type'\u001b[0m\u001b[1;33m:\u001b[0m\u001b[1;34m'button'\u001b[0m\u001b[1;33m}\u001b[0m\u001b[1;33m)\u001b[0m\u001b[1;33m)\u001b[0m\u001b[1;33m)\u001b[0m\u001b[1;33m\u001b[0m\u001b[1;33m\u001b[0m\u001b[0m\n\u001b[0m\u001b[0;32m     24\u001b[0m \u001b[1;33m\u001b[0m\u001b[0m\n\u001b[0;32m     25\u001b[0m     df_final = pd.DataFrame(columns=['Divice_Name', 'Divice_Brand','Extraxtion_Date','Contract_Option', 'Colour', 'Storage_Size', 'Package_Name','Monthly_Device_Instalment',\n",
      "\u001b[1;31mIndexError\u001b[0m: list index out of range"
     ]
    }
   ],
   "source": [
    "for url in urls[3:]:\n",
    "    options = webdriver.ChromeOptions()\n",
    "    options.add_argument('--headless')\n",
    "    options.add_argument('--ignore-certificate-errors')\n",
    "    options.add_argument('--allow-running-insecure-content')\n",
    "    options.add_argument(\"--disable-extensions\")\n",
    "    options.add_argument(\"--proxy-server='direct://'\")\n",
    "    options.add_argument(\"--proxy-bypass-list=*\")\n",
    "    options.add_argument(\"--start-maximized\")\n",
    "    options.add_argument('--disable-gpu')\n",
    "    options.add_argument(\"--incognito\")\n",
    "    options.add_argument('--disable-dev-shm-usage')\n",
    "    options.add_argument('--no-sandbox')\n",
    "    options.add_argument(\"--disable-blink-features=AutomationControlled\")\n",
    "    browser = webdriver.Chrome(executable_path='C:/Users/JenarthananRajenthir/OneDrive - ADA Asia/Documents/Final_telco/chromedriver.exe', options=options)\n",
    "    browser.get(url)\n",
    "    html_source_code = browser.execute_script(\"return document.innerHTML;\")\n",
    "    browser.set_page_load_timeout(10)\n",
    "\n",
    "    html = browser.page_source\n",
    "    soup = BeautifulSoup(html, \"html5lib\")\n",
    "    browser.implicitly_wait(10)\n",
    "    contracts = list(set(soup.find_all('div', attrs = {'id':'devicePlans'})[0].find_all('div', attrs = {'class':'upper-content'})[1].find_all('div', attrs = {'class':'slick-list'})[0].find_all('button', attrs = {'type':'button'})))\n",
    "\n",
    "    df_final = pd.DataFrame(columns=['Divice_Name', 'Divice_Brand','Extraxtion_Date','Contract_Option', 'Colour', 'Storage_Size', 'Package_Name','Monthly_Device_Instalment',\n",
    "                    'Plan_Monthly_Charges','Total_Monthly_Payment','Device_Price', 'Upfront_Payment', 'Availability'])\n",
    "    \n",
    "    for contract in contracts:\n",
    "        contract_id = contract['id']\n",
    "        button_contract = browser.find_element(By.XPATH,\"//button[@id='\"+contract_id+\"']\")\n",
    "        browser.execute_script(\"arguments[0].click();\", button_contract)\n",
    "        browser.implicitly_wait(10)\n",
    "        contracts = browser.find_elements(By.XPATH,\"//span[contains(text(),'SELECT')]\")\n",
    "        print(len(contracts))\n",
    "        for contract in contracts:\n",
    "            browser.execute_script(\"arguments[0].click();\", contract)\n",
    "            browser.implicitly_wait(10)\n",
    "            storages = browser.find_elements(By.XPATH,\"//div[@id='storage-section']//child::p\")\n",
    "            for storage in range(1,len(storages)): \n",
    "                browser.execute_script(\"arguments[0].click();\", storages[storage])\n",
    "                browser.implicitly_wait(10)\n",
    "                colours = browser.find_elements(By.XPATH,\"//div[@id='colors-section']//child::span\")\n",
    "                for colour in colours: \n",
    "                    browser.execute_script(\"arguments[0].click();\", colour)\n",
    "                    browser.implicitly_wait(10)\n",
    "                    html_source_code = browser.execute_script(\"return document.innerHTML;\")\n",
    "                    browser.set_page_load_timeout(10)\n",
    "\n",
    "                    html = browser.page_source\n",
    "                    soup = BeautifulSoup(html, \"html5lib\")\n",
    "                    browser.implicitly_wait(10)\n",
    "                    \n",
    "                    device_name = soup.find_all('div', attrs = {'id':'pdp-cart-section'})[0].find_all('div', attrs = {'class':'col-4 cart-details'})[0].find_all('div', attrs = {'class':'d-flex text-gunmetal mt-1'})[0].find_all('span')[0].text\n",
    "                    device_brand = soup.find_all('div', attrs = {'id':'brand-section'})[0].find_all('p')[-1].text\n",
    "                    colour = ' '.join(soup.find_all('div', attrs = {'id':'pdp-cart-section'})[0].find_all('div', attrs = {'class':'col-4 cart-details'})[0].find_all('div', attrs = {'class':'d-flex text-gunmetal mt-1'})[0].find_all('span')[1].text.split('/')[0].strip().split()[1:])\n",
    "                    storage = soup.find_all('div', attrs = {'id':'pdp-cart-section'})[0].find_all('div', attrs = {'class':'col-4 cart-details'})[0].find_all('div', attrs = {'class':'d-flex text-gunmetal mt-1'})[0].find_all('span')[1].text.split('/')[1].strip()\n",
    "                    contract_option = soup.find_all('div', attrs = {'id':'pdp-cart-section'})[0].find_all('div', attrs = {'class':'col-4 cart-details'})[0].find_all('div', attrs = {'class':'text-left col-6'})[0].text.split('/')[1].strip()\n",
    "                    package_name = soup.find_all('div', attrs = {'id':'pdp-cart-section'})[0].find_all('div', attrs = {'class':'col-4 cart-details'})[0].find_all('div', attrs = {'class':'text-left col-6'})[1].text.strip()\n",
    "                    monthly_device_Instalment = soup.find_all('div', attrs = {'id':'pdp-cart-section'})[0].find_all('div', attrs = {'class':'col-4 cart-details'})[0].find_all('div', attrs = {'class':'text-blue-green text-right col-6'})[0].text.replace(\",\", \"\")\n",
    "                    plan_monthly_charges = soup.find_all('div', attrs = {'id':'pdp-cart-section'})[0].find_all('div', attrs = {'class':'col-4 cart-details'})[0].find_all('div', attrs = {'class':'text-blue-green text-right col-6'})[1].text.replace(\",\", \"\")\n",
    "                    total_monthly_payment = soup.find_all('div', attrs = {'id':'pdp-cart-section'})[0].find_all('div', attrs = {'class':'col-3 col-xl-2 text-gunmetal pl-4'})[0].find_all('span')[0].text.replace(\",\", \"\")\n",
    "                    upfront_payment = soup.find_all('div', attrs = {'id':'pdp-cart-section'})[0].find_all('div', attrs = {'class':'col-2 px-0'})[0].find_all('span')[0].text.replace(\"*\", \"\").replace(\",\", \"\")\n",
    "                    availability = soup.find_all('div', attrs = {'id':'pdp-cart-section'})[0].find_all('button', attrs = {'id':'dBtnAddToCart'})[0].text\n",
    "\n",
    "\n",
    "                    df_final = df_final.append({'Divice_Name': device_name, 'Divice_Brand':device_brand,'Extraxtion_Date': extraxtion_date,'Contract_Option': contract_option, 'Colour':colour, 'Storage_Size': storage, 'Package_Name':package_name,'Monthly_Device_Instalment': monthly_device_Instalment,\n",
    "                        'Plan_Monthly_Charges': plan_monthly_charges,'Total_Monthly_Payment': total_monthly_payment,'Device_Price': None, 'Upfront_Payment': upfront_payment, 'Availability': availability }, ignore_index=True)\n",
    "\n",
    "\n",
    "    df_final.to_csv(path+date+'_'+device_name+'_devices.csv', index=False)\n",
    "    print('Successfully Maxis '+device_name+' Details Collected!')\n",
    "    browser.quit()\n"
   ]
  },
  {
   "cell_type": "code",
   "execution_count": 37,
   "id": "5dd04e94",
   "metadata": {},
   "outputs": [
    {
     "name": "stderr",
     "output_type": "stream",
     "text": [
      "<ipython-input-37-b90112e0a2f8>:14: DeprecationWarning: executable_path has been deprecated, please pass in a Service object\n",
      "  browser = webdriver.Chrome(executable_path='C:/Users/JenarthananRajenthir/OneDrive - ADA Asia/Documents/Final_telco/chromedriver.exe', options=options)\n"
     ]
    }
   ],
   "source": [
    "options = webdriver.ChromeOptions()\n",
    "# options.add_argument('--headless')\n",
    "options.add_argument('--ignore-certificate-errors')\n",
    "options.add_argument('--allow-running-insecure-content')\n",
    "options.add_argument(\"--disable-extensions\")\n",
    "options.add_argument(\"--proxy-server='direct://'\")\n",
    "options.add_argument(\"--proxy-bypass-list=*\")\n",
    "options.add_argument(\"--start-maximized\")\n",
    "options.add_argument('--disable-gpu')\n",
    "options.add_argument(\"--incognito\")\n",
    "options.add_argument('--disable-dev-shm-usage')\n",
    "options.add_argument('--no-sandbox')\n",
    "options.add_argument(\"--disable-blink-features=AutomationControlled\")\n",
    "browser = webdriver.Chrome(executable_path='C:/Users/JenarthananRajenthir/OneDrive - ADA Asia/Documents/Final_telco/chromedriver.exe', options=options)\n",
    "\n",
    "url = 'https://www.maxis.com.my/en/broadband/'\n",
    "browser.get(url)\n",
    "html_source_code = browser.execute_script(\"return document.innerHTML;\")\n",
    "browser.set_page_load_timeout(10)\n",
    "\n",
    "html = browser.page_source\n",
    "soup = BeautifulSoup(html, \"html5lib\")"
   ]
  },
  {
   "cell_type": "code",
   "execution_count": 38,
   "id": "84de0562",
   "metadata": {},
   "outputs": [
    {
     "name": "stdout",
     "output_type": "stream",
     "text": [
      "Maxis Home Fibre\n",
      "        800Mbps\n",
      "Maxis Home Fibre\n",
      "        500Mbps\n",
      "Maxis Home Fibre\n",
      "        300Mbps\n",
      "Maxis Home Fibre\n",
      "        100Mbps\n",
      "Maxis Home Fibre\n",
      "        30Mbps\n"
     ]
    }
   ],
   "source": [
    "\n",
    "\n",
    "\n",
    "Broadband_plans = browser.find_elements(By.XPATH,\"//div[@class='cmp-content-tab']//li[@class='nav-item']\")\n",
    "for Broadband_plan in range(1,len(Broadband_plans)): \n",
    "    browser.execute_script(\"arguments[0].click();\", Broadband_plans[1])\n",
    "    html_source_code = browser.execute_script(\"return document.innerHTML;\")\n",
    "    browser.set_page_load_timeout(10)\n",
    "    html = browser.page_source\n",
    "    soup = BeautifulSoup(html, \"html5lib\")\n",
    "    plans = soup.find_all('div',attrs={'class':'slick-list draggable'})[0].find_all('div',attrs={'class':re.compile('^slick-slide')})\n",
    "    for plan in plans:\n",
    "        print(plan.find_all('div',attrs={'class':'card-wrapper'})[0].find_all('div',attrs={'class':'headline'})[0].text.strip())\n",
    "    \n",
    "    "
   ]
  },
  {
   "cell_type": "code",
   "execution_count": 29,
   "id": "e5eac231",
   "metadata": {},
   "outputs": [
    {
     "data": {
      "text/plain": [
       "'Maxis Home Fibre\\n        800Mbps'"
      ]
     },
     "execution_count": 29,
     "metadata": {},
     "output_type": "execute_result"
    }
   ],
   "source": [
    "soup.find_all('div',attrs={'class':'slick-list draggable'})[0].find_all('div',attrs={'class':re.compile('^slick-slide')})[0].find_all('div',attrs={'class':'card-wrapper'})[0].find_all('div',attrs={'class':'headline'})[0].text.strip()"
   ]
  },
  {
   "cell_type": "code",
   "execution_count": null,
   "id": "a98b3368",
   "metadata": {},
   "outputs": [],
   "source": []
  }
 ],
 "metadata": {
  "kernelspec": {
   "display_name": "Python 3",
   "language": "python",
   "name": "python3"
  },
  "language_info": {
   "codemirror_mode": {
    "name": "ipython",
    "version": 3
   },
   "file_extension": ".py",
   "mimetype": "text/x-python",
   "name": "python",
   "nbconvert_exporter": "python",
   "pygments_lexer": "ipython3",
   "version": "3.8.8"
  }
 },
 "nbformat": 4,
 "nbformat_minor": 5
}
